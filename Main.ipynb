{
 "cells": [
  {
   "cell_type": "markdown",
   "metadata": {},
   "source": [
    "# Introduction\n",
    "\n",
    "- Systèmes de recommandations omniprésents de nos jours : Netflix et Youtube \n",
    "- Enjeux économiques et commerciaux\n",
    "- Filtrage basé sur le contenu\n",
    "- Filtrage collaboratif\n",
    "- Systèmes hybrides"
   ]
  },
  {
   "cell_type": "markdown",
   "metadata": {},
   "source": [
    "# 1. Affichage des données"
   ]
  },
  {
   "cell_type": "markdown",
   "metadata": {},
   "source": [
    "## 1.1 Fichier des utilisateurs"
   ]
  },
  {
   "cell_type": "code",
   "execution_count": 75,
   "metadata": {
    "scrolled": true
   },
   "outputs": [
    {
     "name": "stdout",
     "output_type": "stream",
     "text": [
      "Nombre d'utilisateurs= 943\n"
     ]
    }
   ],
   "source": [
    "import numpy as np\n",
    "import progressbar\n",
    "\n",
    "np.seterr(divide='ignore', invalid='ignore')\n",
    "\n",
    "import pandas as pd\n",
    "import matplotlib.pyplot as plt\n",
    "\n",
    "u_cols = ['user_id', 'age', 'sex', 'occupation', 'zip_code']\n",
    "users = pd.read_csv('ml-100k/u.user', sep='|', names=u_cols,\n",
    "encoding='latin-1')\n",
    "\n",
    "users.head(10)\n",
    "n_users = users.shape[0]\n",
    "print('Nombre d\\'utilisateurs= ' + str(n_users))"
   ]
  },
  {
   "cell_type": "code",
   "execution_count": 76,
   "metadata": {},
   "outputs": [
    {
     "data": {
      "image/png": "[encoded data removed]",
      "text/plain": [
       "<matplotlib.figure.Figure at 0x1138fab38>"
      ]
     },
     "metadata": {},
     "output_type": "display_data"
    }
   ],
   "source": [
    "users.age.plot.hist(bins=50)\n",
    "plt.title(\"Distribution des ages des utilisateurs\")\n",
    "plt.ylabel('Nombre de notes')\n",
    "plt.xlabel('Age');"
   ]
  },
  {
   "cell_type": "markdown",
   "metadata": {},
   "source": [
    "## 1.2 Fichier des films"
   ]
  },
  {
   "cell_type": "code",
   "execution_count": 77,
   "metadata": {
    "scrolled": true
   },
   "outputs": [
    {
     "name": "stdout",
     "output_type": "stream",
     "text": [
      "Nombre de films = 1682\n"
     ]
    }
   ],
   "source": [
    "i_cols = ['movie id', 'movie_title' ,'release date','video release date', 'IMDb URL', 'unknown', 'Action', 'Adventure',\n",
    " 'Animation', 'Children\\'s', 'Comedy', 'Crime', 'Documentary', 'Drama', 'Fantasy',\n",
    " 'Film-Noir', 'Horror', 'Musical', 'Mystery', 'Romance', 'Sci-Fi', 'Thriller', 'War', 'Western']\n",
    "items = pd.read_csv('ml-100k/u.item', sep='|', names=i_cols,\n",
    " encoding='latin-1')\n",
    "\n",
    "items.head(3)\n",
    "\n",
    "n_items = items.shape[0]\n",
    "print('Nombre de films = ' + str(n_items))"
   ]
  },
  {
   "cell_type": "markdown",
   "metadata": {},
   "source": [
    "## 1.3 Fichier des notes\n"
   ]
  },
  {
   "cell_type": "code",
   "execution_count": 78,
   "metadata": {
    "scrolled": true
   },
   "outputs": [
    {
     "name": "stdout",
     "output_type": "stream",
     "text": [
      "Nombre de notes = 100000\n"
     ]
    }
   ],
   "source": [
    "r_cols = ['user_id', 'movie_id', 'rating', 'unix_timestamp']\n",
    "ratings = pd.read_csv('ml-100k/u.data', sep='\\t', names=r_cols,\n",
    " encoding='latin-1')\n",
    "\n",
    "ratings.head(10)\n",
    "n_ratings = ratings.shape[0]\n",
    "print('Nombre de notes = ' + str(n_ratings))"
   ]
  },
  {
   "cell_type": "code",
   "execution_count": 79,
   "metadata": {},
   "outputs": [
    {
     "data": {
      "image/png": "[encoded data removed]",
      "text/plain": [
       "<matplotlib.figure.Figure at 0x11583a630>"
      ]
     },
     "metadata": {},
     "output_type": "display_data"
    }
   ],
   "source": [
    "ratings.rating.plot.hist(bins=50)\n",
    "plt.title(\"Distribution des notes\")\n",
    "plt.ylabel('Nombre de notes')\n",
    "plt.xlabel('Note');"
   ]
  },
  {
   "cell_type": "markdown",
   "metadata": {},
   "source": [
    "# 2. Filtrage colaboratif"
   ]
  },
  {
   "cell_type": "markdown",
   "metadata": {},
   "source": [
    "## 2.1 Notations"
   ]
  },
  {
   "cell_type": "markdown",
   "metadata": {},
   "source": [
    "- $n_u$ : nombre d'utilisateur \n",
    "- $n_f$ : nombre de films\n",
    "- $n_r$ : nombre de notes"
   ]
  },
  {
   "cell_type": "code",
   "execution_count": 80,
   "metadata": {},
   "outputs": [
    {
     "name": "stdout",
     "output_type": "stream",
     "text": [
      "Nombre d'utilisateurs : 943\n",
      "Nombre de films : 1682\n"
     ]
    }
   ],
   "source": [
    "header = ['user_id', 'item_id', 'rating', 'timestamp']\n",
    "df = pd.read_csv('ml-100k/u.data', sep='\\t', names=header)\n",
    "\n",
    "n_u = df.user_id.unique().shape[0]\n",
    "n_f = df.item_id.unique().shape[0]\n",
    "\n",
    "print('Nombre d\\'utilisateurs : '+ str(n_u))\n",
    "print('Nombre de films : '+ str(n_f))"
   ]
  },
  {
   "cell_type": "markdown",
   "metadata": {},
   "source": [
    "## 2.2 Création de sous fichiers d'apprentissage et de test"
   ]
  },
  {
   "cell_type": "markdown",
   "metadata": {},
   "source": [
    "- Utilisation du module $\\verb|sparse|$ de Scipy : stockage et accès des données facilités"
   ]
  },
  {
   "cell_type": "code",
   "execution_count": 81,
   "metadata": {},
   "outputs": [],
   "source": [
    "from scipy.sparse import *\n",
    "\n",
    "def read_data_100k(filename):\n",
    "    \"\"\"\n",
    "    Objet : retourne une matrice creuse qui contient les notes données par les utilisateurs aux films\n",
    "    Arguments : le chemin du fichier des données sous format .base ou .test\n",
    "    Sortie : matrice creuse des notes\n",
    "    \"\"\"\n",
    "    data=pd.read_csv(filename, sep='\\t', names=header)\n",
    "    \n",
    "    df = pd.read_csv('ml-100k/u.data', sep='\\t', names=header)\n",
    "    \n",
    "    n_u = df.user_id.unique().shape[0]\n",
    "    n_f = df.item_id.unique().shape[0]\n",
    "    \n",
    "    users=[]\n",
    "    films=[]\n",
    "    ratings=[]\n",
    "    \n",
    "    for line in data.itertuples():\n",
    "        users.append(line[1]-1)\n",
    "        films.append(line[2]-1)\n",
    "        ratings.append(line[3])\n",
    "        \n",
    "    return csr_matrix((ratings, (users, films)), shape=(n_u, n_f))\n"
   ]
  },
  {
   "cell_type": "markdown",
   "metadata": {},
   "source": [
    "- $\\verb|train_data|$ : données d'aprentissage  \n",
    "- $\\verb|test_data|$ : données de test"
   ]
  },
  {
   "cell_type": "code",
   "execution_count": 82,
   "metadata": {},
   "outputs": [],
   "source": [
    "train_data=read_data_100k('ml-100k/u1.base')\n",
    "test_data=read_data_100k('ml-100k/u1.test')"
   ]
  },
  {
   "cell_type": "markdown",
   "metadata": {},
   "source": [
    "- Prédécoupage réalisé par Movie-Lense : 20%/80%"
   ]
  },
  {
   "cell_type": "code",
   "execution_count": 83,
   "metadata": {},
   "outputs": [
    {
     "name": "stdout",
     "output_type": "stream",
     "text": [
      "Nombre de notes dans train_data : 80000\n",
      "Nombre de notes dans test_data : 20000\n"
     ]
    }
   ],
   "source": [
    "print('Nombre de notes dans train_data : '+str(csr_matrix.count_nonzero((train_data))))\n",
    "\n",
    "print('Nombre de notes dans test_data : '+str(csr_matrix.count_nonzero((test_data))))"
   ]
  },
  {
   "cell_type": "markdown",
   "metadata": {},
   "source": [
    "## 2.3 Création de la matrice de similarité"
   ]
  },
  {
   "cell_type": "markdown",
   "metadata": {},
   "source": [
    "- Comment mesurer la similarité entre deux utilisateurs ou deux films ?\n",
    "- Métrique couramment utilisée : cosinus"
   ]
  },
  {
   "cell_type": "markdown",
   "metadata": {},
   "source": [
    "Pour les utilisateurs : $s_u^{cos}(u_i,u_j)=\\frac{u_i u_j}{||u_i||\\times||u_j||}$ où $u_i$ est un vecteur comportant toutes les notes du ième utilisateur"
   ]
  },
  {
   "cell_type": "markdown",
   "metadata": {},
   "source": [
    "Pour les films : $s_f^{cos}(f_i,f_j)=\\frac{f_i f_j}{||f_i||\\times||f_j||}$ où $f_i$ est un vecteur comportant toutes les notes du ième film"
   ]
  },
  {
   "cell_type": "code",
   "execution_count": 85,
   "metadata": {},
   "outputs": [],
   "source": [
    "import sklearn.preprocessing as pp\n",
    "\n",
    "def cosine_similarities(mat):\n",
    "    \"\"\"\n",
    "    Objet : calculer la similarité cosinus entre les colonnes d'une matrice\n",
    "    Arguments : matrice creuse des notes\n",
    "    Sortie : matrice de similarité\n",
    "    \"\"\"\n",
    "    col_normed_mat = pp.normalize(mat.tocsc(), axis=0)\n",
    "    return col_normed_mat.T * col_normed_mat\n",
    "\n",
    "user_similarity=cosine_similarities(train_data.T)\n",
    "film_similarity=cosine_similarities(train_data)"
   ]
  },
  {
   "cell_type": "markdown",
   "metadata": {},
   "source": [
    "## 2.4 Objectif"
   ]
  },
  {
   "cell_type": "markdown",
   "metadata": {},
   "source": [
    "- $V(u,f)$ : note\"vraie\" contenu dans $\\verb|test_data|$\n",
    "- $N(u,f)$ : note contenu\n",
    "- $P(u,f)$ : note prédite calculée à partir de $\\verb|train_data|$\n",
    "- Objectif : s'approcher de $V$ en prédisant $P$ à l'aide des $N$"
   ]
  },
  {
   "cell_type": "markdown",
   "metadata": {},
   "source": [
    "## 2.5 Filtrage colloboratif utilisateur\n",
    "\n",
    "\n",
    "$$P(u_i,f_j)-\\bar{N}(u_i)=\\frac{\\sum_{k\\neq i} s_u^{cos}(u_i,u_k)\\left(N(u_k,f_j)-\\bar{N}(u_k)\\right)}{\\sum_{k\\neq i}|s_u^{cos}(u_i,u_k)|}$$\n",
    "\n",
    "- Prédit l'écart à la moyenne pour plus de sens"
   ]
  },
  {
   "cell_type": "markdown",
   "metadata": {},
   "source": [
    "<img src=\"Image/2.png\">"
   ]
  },
  {
   "cell_type": "markdown",
   "metadata": {},
   "source": [
    "## 2.6 Filtrage colloboratif film\n",
    "\n",
    "\n",
    "$$P(u_i,f_j)=\\frac{\\sum_{k\\neq j} s_u^{cos}(f_j,f_l)\\times N(u_i,f_l)}{\\sum_{l\\neq j}|s_u^{cos}(f_j,f_l)|}$$"
   ]
  },
  {
   "cell_type": "markdown",
   "metadata": {},
   "source": [
    "<img src=\"Image/1.png\">"
   ]
  },
  {
   "cell_type": "markdown",
   "metadata": {},
   "source": [
    "## 2.7 Implémentation"
   ]
  },
  {
   "cell_type": "code",
   "execution_count": 86,
   "metadata": {},
   "outputs": [],
   "source": [
    "import numpy\n",
    "\n",
    "def mean_users(ratings):\n",
    "    \"\"\"\n",
    "    Objet : calculer la moyenne des notes de chaque utilisateur\n",
    "    Arguments : matrice qui contient les notes\n",
    "    Sortie : liste dont les élements representent la note moyenne pour chaque utilisateur\n",
    "    \"\"\"\n",
    "    (x,y,z)=find(ratings)\n",
    "    countings=numpy.bincount(x)\n",
    "    sums=numpy.bincount(x,weights=z)\n",
    "    averages=sums/countings\n",
    "    return averages\n",
    "        \n",
    "def predict(u,f,train_data,similarity,method) :\n",
    "    \"\"\"\n",
    "    Objet : predire la note d'un film donné pour un utilisateur donné selon une méthode spécifique \n",
    "    Arguments : - u : l'id de l'utilisateur\n",
    "                - f : l'id du film\n",
    "                - train_data : la matrice d'apprentissage\n",
    "                - similarity : la matrice de similarité\n",
    "                - method : méthode choisie \"film\" ou \"user\"\n",
    "    Sortie : un float qui représente la note predite\n",
    "    \"\"\"\n",
    "    if method=='film':\n",
    "        mean_us= mean_users(train_data)\n",
    "        temp=0\n",
    "        tempsimil=0\n",
    "        ratings_u=train_data[u,:]\n",
    "        (_,films,r)=find(ratings_u)\n",
    "        for film in films:\n",
    "            temp+=similarity[f,film]*train_data[u,film]\n",
    "            tempsimil+=similarity[f,film]\n",
    "        \n",
    "        if np.isnan(mean_us[u]):\n",
    "            return 3\n",
    "        elif tempsimil==0 :\n",
    "            return mean_us[u]\n",
    "        else :\n",
    "            return temp/tempsimil\n",
    "        \n",
    "    if method=='user':\n",
    "        mean_us= mean_users(train_data)\n",
    "        temp=0\n",
    "        tempsimil=0\n",
    "        ratings_f=train_data[:,f]\n",
    "        (users,_,r)=find(ratings_f)\n",
    "        for user in users:\n",
    "            train_data[user,f]\n",
    "            mean_us[user]\n",
    "            similarity[u,user]\n",
    "            temp+=similarity[u,user]*(train_data[user,f]-mean_us[user])\n",
    "            tempsimil+=similarity[u,user]\n",
    "        \n",
    "        if np.isnan(mean_us[u]):\n",
    "            return 3\n",
    "        elif tempsimil==0 :\n",
    "            return mean_us[u]\n",
    "        else :\n",
    "            return mean_us[u]+temp/tempsimil"
   ]
  },
  {
   "cell_type": "markdown",
   "metadata": {},
   "source": [
    "# 3. Recommendation basée sur le contenu "
   ]
  },
  {
   "cell_type": "markdown",
   "metadata": {},
   "source": [
    "- Le filtrage basé sur le contenu repose sur l'analyse du contenu pour cibler des films. \n",
    "- Les films cibles sont décrits par leurs attributs qui sont les genres qu'ils possédent. \n",
    "- Les utilisateurs sont décrits par leurs profils : age , sexe et profession. "
   ]
  },
  {
   "cell_type": "markdown",
   "metadata": {},
   "source": [
    "## 3.1 Filtrage basé sur le contenu utlisateur"
   ]
  },
  {
   "cell_type": "code",
   "execution_count": 87,
   "metadata": {},
   "outputs": [],
   "source": [
    "jobs=users.occupation.unique()\n",
    "nb_jobs=jobs.shape[0]\n",
    "\n",
    "def features_matrix_users(users):\n",
    "    \"\"\"\n",
    "    Objet : extraction des informations d'un utilisateur à partir des données MovieLense\n",
    "    Arguments : données de MovieLense\n",
    "    Sortie : Matrice qui contient les caractéristiques de chaque utilisateur : age, sexe et profession\n",
    "    \"\"\"\n",
    "    L=[]\n",
    "    for line in users.itertuples():\n",
    "        Li=[]\n",
    "        Li.append(line[2]/(users.age.max()+users.age.min()))\n",
    "        Li.append(int(line[3]=='M'))\n",
    "        Li.append(int(line[3]!='M'))\n",
    "        for j in jobs:\n",
    "            Li.append(int(line[4]==j))\n",
    "        L.append(Li)\n",
    "    return csr_matrix(L)\n",
    "\n",
    "\n",
    "\n",
    "def get_similarity_user():\n",
    "    \"\"\"\n",
    "    Objet : retourne une matrice de similarités cosinus des utilisateurs basée sur leur contenu\n",
    "    \"\"\"\n",
    "    features_matrix_user=features_matrix_users(users)\n",
    "    return cosine_similarities(features_matrix_user.T) "
   ]
  },
  {
   "cell_type": "markdown",
   "metadata": {},
   "source": [
    "- Le système de recommandation propose les films aimés par d’autres utilisateurs qui ont de hautes corrélations avec le profil de l'utilisateur en question."
   ]
  },
  {
   "cell_type": "markdown",
   "metadata": {},
   "source": [
    "## 3.2 Filtrage basé sur le contenu des films"
   ]
  },
  {
   "cell_type": "code",
   "execution_count": 88,
   "metadata": {},
   "outputs": [],
   "source": [
    "def features(data_set) :\n",
    "    \"\"\"\n",
    "    Équivalent pour les films selon les caractéristiques du genre\n",
    "    \"\"\"\n",
    "    features_film=[];\n",
    "    genres=['Action', 'Adventure','Animation', 'Children\\'s', 'Comedy', 'Crime', 'Documentary', 'Drama', 'Fantasy','Film-Noir', 'Horror', 'Musical', 'Mystery', 'Romance', 'Sci-Fi', 'Thriller', 'War', 'Western']\n",
    "    for i in range(data_set.shape[0]) :\n",
    "        Li=[];\n",
    "        for g in genres:\n",
    "            Li.append(data_set[g][i])\n",
    "        Li.append(int(data_set['release date'][1][7:12]))\n",
    "        features_film.append(Li)\n",
    "    features_film=csr_matrix(features_film)\n",
    "    return(features_film)\n",
    "\n",
    "def get_similarity_films():\n",
    "    \"\"\"\n",
    "    Idem\n",
    "    \"\"\"\n",
    "    featurestemp=features(items)\n",
    "    return cosine_similarities(featurestemp.T) # Les films doivent être en ligne \n",
    "\n"
   ]
  },
  {
   "cell_type": "markdown",
   "metadata": {},
   "source": [
    "- Avantages : démarrage à froid ou prèsence d'un nombre très limité de notes\n",
    "- Inconvénients : analyse limitée du contenu des films / ne prend pas en compte les attributs subjectifs liés à la perception de l’utilisateur et qui peuvent influencer énormément son choix."
   ]
  },
  {
   "cell_type": "markdown",
   "metadata": {},
   "source": [
    "# 4. Test et comparaison des méthodes"
   ]
  },
  {
   "cell_type": "markdown",
   "metadata": {},
   "source": [
    "## 4.1 Normalisation"
   ]
  },
  {
   "cell_type": "markdown",
   "metadata": {},
   "source": [
    "- Pour pouvoir comparer les différentes méthodes\n",
    "- $N_{norm}=(N-N_{min})\\frac{5-1}{N_{max}-N_{min}}+1$."
   ]
  },
  {
   "cell_type": "code",
   "execution_count": 89,
   "metadata": {},
   "outputs": [],
   "source": [
    "def getNormalized(pred):\n",
    "    \"\"\"\n",
    "    Objet : normalisation des notes entre 1 et 5\n",
    "    Arguments : matrice creuse des predictions\n",
    "    Sortie : matrice creuse des prédictions normalisées\n",
    "    \"\"\"\n",
    "    n_u=pred.shape[0]\n",
    "    n_f=pred.shape[1]\n",
    "    \n",
    "    rmax=pred.max()\n",
    "    rmin=pred.min()\n",
    "    (users,films,r)=find(pred)\n",
    "    pred_norm=[]\n",
    "    for rating in r :\n",
    "        pred_norm.append((((rating-rmin)*4)/(rmax-rmin))+1)\n",
    "    \n",
    "    \n",
    "    return(pred_norm)\n",
    "        "
   ]
  },
  {
   "cell_type": "markdown",
   "metadata": {},
   "source": [
    "## 4.2 Quelques fonctions"
   ]
  },
  {
   "cell_type": "markdown",
   "metadata": {},
   "source": [
    "- Fonctions permettant de prédire uniquement les notes présentes dans $\\verb|test_data|$\n",
    "- Utilisation de matrices sparses"
   ]
  },
  {
   "cell_type": "code",
   "execution_count": 90,
   "metadata": {},
   "outputs": [],
   "source": [
    "import progressbar\n",
    "import time\n",
    "\n",
    "def predict_film_all(train_data,test_data,method):\n",
    "    \"\"\"\n",
    "    Objet : prediction de toutes les notes de la matrice test_data à partir de train_data\n",
    "    Arguments : - train_data : la matrice d'apprentissage\n",
    "                - test_data : la matrice de test\n",
    "                - method : méthode choisie \"CF\" pour le filtrage collaboratif et \"CB\" \n",
    "                           pour le filtrage basé sur le contenu\n",
    "    Sortie : une matrice creuse des notes predites pour les films déjà notés par les \n",
    "             utilisateurs dans la matrice test\n",
    "    \"\"\"\n",
    "    if method=='CF' :\n",
    "        similarity = cosine_similarities(train_data)\n",
    "    if method=='CB':\n",
    "        similarity=get_similarity_films()\n",
    "    \n",
    "    n_u=train_data.shape[0]\n",
    "    n_f=train_data.shape[1]\n",
    "    \n",
    "    (users,films,r)=find(test_data)\n",
    "    \n",
    "    n_r=users.shape[0]\n",
    "    \n",
    "    predictions=[]\n",
    "   \n",
    "    bar = progressbar.ProgressBar(maxval=n_r, \\\n",
    "    widgets=[progressbar.Bar('=', '[', ']'), ' ', progressbar.Percentage()])\n",
    "    bar.start()\n",
    "    \n",
    "    for r in range(0,n_r):\n",
    "        predictions.append(predict(users[r],films[r],train_data,similarity,'film'))\n",
    "        bar.update(r+1)\n",
    "    bar.finish()\n",
    "    time.sleep(0.1)\n",
    "    return csr_matrix((predictions, (users, films)), shape=(n_u, n_f))\n",
    "\n",
    "\n",
    "def predict_user_all(train_data,test_data,method):\n",
    "    \"\"\"\n",
    "    Idem pour l'approche utilisateur\n",
    "    \"\"\"\n",
    "    if method=='CF' :\n",
    "        similarity = cosine_similarities(train_data.T)\n",
    "    if method=='CB':\n",
    "        similarity=get_similarity_user()\n",
    "    \n",
    "    n_u=train_data.shape[0]\n",
    "    n_f=train_data.shape[1]\n",
    "    \n",
    "    (users,films,r)=find(test_data)\n",
    "    \n",
    "    n_r=users.shape[0]\n",
    "    predictions=[]\n",
    "   \n",
    "    bar = progressbar.ProgressBar(maxval=n_r, \\\n",
    "    widgets=[progressbar.Bar('=', '[', ']'), ' ', progressbar.Percentage()])\n",
    "    bar.start()\n",
    "    \n",
    "    for r in range(0,n_r):\n",
    "        predictions.append(predict(users[r],films[r],train_data,similarity,'user'))\n",
    "        bar.update(r+1)\n",
    "    bar.finish()\n",
    "    time.sleep(0.1)\n",
    "    return csr_matrix((predictions, (users, films)), shape=(n_u, n_f))"
   ]
  },
  {
   "cell_type": "markdown",
   "metadata": {},
   "source": [
    "## 4.3 Performance des algorithmes"
   ]
  },
  {
   "cell_type": "markdown",
   "metadata": {},
   "source": [
    "- Comment quantifier la performance de nos algorithmes ?\n",
    "- Erreur quadratique moyenne : $<(P-V)^2>$\n",
    "- Utilisation du module $\\verb|mean_squared_error|$ de Sklearn"
   ]
  },
  {
   "cell_type": "code",
   "execution_count": 91,
   "metadata": {},
   "outputs": [],
   "source": [
    "from sklearn.metrics import mean_squared_error\n",
    "from math import sqrt\n",
    "\n",
    "\n",
    "def rmse(test_data,pred):\n",
    "    \"\"\"\n",
    "    Objet : calcul de l'erreur quadratique moyenne\n",
    "    Arguments : - test_data : la matrice des notes \"vraies\" \n",
    "                - pred : la matrice des predictions\n",
    "    Sortie : l'erreur quadratique moyenne (float)\n",
    "    \"\"\"\n",
    "    (_,_,y_actual)=find(test_data)\n",
    "    (_,_,y_predicted)=find(pred)\n",
    "    return(sqrt(mean_squared_error(y_actual, y_predicted)))\n"
   ]
  },
  {
   "cell_type": "markdown",
   "metadata": {},
   "source": [
    "### CF film-film"
   ]
  },
  {
   "cell_type": "code",
   "execution_count": 92,
   "metadata": {},
   "outputs": [],
   "source": [
    "#pred_film_CF=predict_film_all(train_data,test_data,'CF');"
   ]
  },
  {
   "cell_type": "code",
   "execution_count": 93,
   "metadata": {},
   "outputs": [],
   "source": [
    "#save_npz('Matrices/100k/u1/pred_film_CF_film_u1.npz', pred_film_CF)\n",
    "pred_film_CF=load_npz('Matrices/100k/u1/pred_CF_film_u1.npz')"
   ]
  },
  {
   "cell_type": "code",
   "execution_count": 94,
   "metadata": {},
   "outputs": [
    {
     "name": "stdout",
     "output_type": "stream",
     "text": [
      "RMSE : 1.0334307063086856\n",
      "RMSE avec normalisation : 1.132838511008601\n"
     ]
    }
   ],
   "source": [
    "rmse_film_CF=rmse(test_data,pred_film_CF)\n",
    "\n",
    "print('RMSE : ' +str(rmse_film_CF))\n",
    "\n",
    "rmse_film_CFN=rmse(test_data,getNormalized(pred_film_CF))\n",
    "\n",
    "print('RMSE avec normalisation : ' +str(rmse_film_CFN))"
   ]
  },
  {
   "cell_type": "markdown",
   "metadata": {},
   "source": [
    "- La normalisation réduit les performances de l'algorithme\n",
    "- RMSE cohérent avec la littérature"
   ]
  },
  {
   "cell_type": "markdown",
   "metadata": {},
   "source": [
    "### CF utilisateur-film"
   ]
  },
  {
   "cell_type": "code",
   "execution_count": 95,
   "metadata": {},
   "outputs": [],
   "source": [
    "#pred_user_CF=predict_user_all(train_data,test_data,'CF');"
   ]
  },
  {
   "cell_type": "code",
   "execution_count": 96,
   "metadata": {},
   "outputs": [],
   "source": [
    "#save_npz('Matrices/100k/u1/pred_film_CF_user_u1.npz', pred_film_CF)\n",
    "pred_user_CF=load_npz('Matrices/100k/u1/pred_CF_user_u1.npz')"
   ]
  },
  {
   "cell_type": "code",
   "execution_count": 97,
   "metadata": {},
   "outputs": [
    {
     "name": "stdout",
     "output_type": "stream",
     "text": [
      "RMSE : 0.9678736486371978\n",
      "RMSE avec normalisation : 0.9923907778807052\n"
     ]
    }
   ],
   "source": [
    "rmse_user_CF=rmse(test_data,pred_user_CF)\n",
    "\n",
    "print('RMSE : ' +str(rmse_user_CF))\n",
    "\n",
    "rmse_user_CFN=rmse(test_data,getNormalized(pred_user_CF))\n",
    "\n",
    "print('RMSE avec normalisation : ' +str(rmse_user_CFN))"
   ]
  },
  {
   "cell_type": "markdown",
   "metadata": {},
   "source": [
    "- La normalisation réduit les performances de l'algorithme\n",
    "- RMSE cohérent avec la littérature\n",
    "- Plus performant que l'approche films"
   ]
  },
  {
   "cell_type": "markdown",
   "metadata": {},
   "source": [
    "### CB film"
   ]
  },
  {
   "cell_type": "code",
   "execution_count": 98,
   "metadata": {},
   "outputs": [],
   "source": [
    "#pred_film_CB=predict_film_all(train_data,test_data,'CB')"
   ]
  },
  {
   "cell_type": "code",
   "execution_count": 99,
   "metadata": {},
   "outputs": [],
   "source": [
    "#save_npz('Matrices/100k/u1/pred_film_CB_film_u1.npz', pred_film_CB)\n",
    "pred_film_CB=load_npz('Matrices/100k/u1/pred_CB_film_u1.npz')"
   ]
  },
  {
   "cell_type": "code",
   "execution_count": 100,
   "metadata": {},
   "outputs": [
    {
     "name": "stdout",
     "output_type": "stream",
     "text": [
      "RMSE : 1.0629951228349885\n",
      "RMSE avec normalisation : 1.1449037361418997\n"
     ]
    }
   ],
   "source": [
    "rmse_film_CB=rmse(test_data,pred_film_CB)\n",
    "\n",
    "print('RMSE : ' +str(rmse_film_CB))\n",
    "\n",
    "rmse_film_CBN=rmse(test_data,getNormalized(pred_film_CB))\n",
    "\n",
    "print('RMSE avec normalisation : ' +str(rmse_film_CBN))"
   ]
  },
  {
   "cell_type": "markdown",
   "metadata": {},
   "source": [
    "- La normalisation réduit les performances de l'algorithme\n",
    "- Moins performant que l'approche CF films"
   ]
  },
  {
   "cell_type": "markdown",
   "metadata": {},
   "source": [
    "### CB user"
   ]
  },
  {
   "cell_type": "code",
   "execution_count": 101,
   "metadata": {},
   "outputs": [],
   "source": [
    "#pred_user_CB=predict_user_all(train_data,test_data,'CB')"
   ]
  },
  {
   "cell_type": "code",
   "execution_count": 102,
   "metadata": {},
   "outputs": [],
   "source": [
    "#save_npz('Matrices/100k/u1/pred_film_CB_user_u1.npz', pred_user_CB)\n",
    "pred_user_CB=load_npz('Matrices/100k/u1/pred_CB_user_u1.npz')"
   ]
  },
  {
   "cell_type": "code",
   "execution_count": 103,
   "metadata": {},
   "outputs": [
    {
     "name": "stdout",
     "output_type": "stream",
     "text": [
      "RMSE : 0.9767450885381848\n",
      "RMSE avec normalisation : 1.1449037361418997\n"
     ]
    }
   ],
   "source": [
    "rmse_user_CB=rmse(test_data,pred_user_CB)\n",
    "\n",
    "print('RMSE : ' +str(rmse_user_CB))\n",
    "\n",
    "rmse_user_CBN=rmse(test_data,getNormalized(pred_user_CB))\n",
    "\n",
    "print('RMSE avec normalisation : ' +str(rmse_film_CBN))"
   ]
  },
  {
   "cell_type": "markdown",
   "metadata": {},
   "source": [
    "- La normalisation réduit les performances de l'algorithme\n",
    "- Moins performant que l'approche CF utilisateurs\n",
    "- Plus performant que les approches CB et CF films"
   ]
  },
  {
   "cell_type": "markdown",
   "metadata": {},
   "source": [
    "### Analyse sur 5 découpages différents"
   ]
  },
  {
   "cell_type": "code",
   "execution_count": null,
   "metadata": {},
   "outputs": [],
   "source": [
    "# for u in [1,2,3,4,5]:\n",
    "    print(\"Traitement du jeu de données : u_\"+str(u) )\n",
    "    \n",
    "    # Read data\n",
    "    train_data=read_data_100k('ml-100k/u'+str(u)+'.base')\n",
    "    save_npz('Matrices/100k/u'+str(u)+'/train_data_u'+str(u)+'.npz', train_data)\n",
    "    \n",
    "    test_data=read_data_100k('ml-100k/u'+str(u)+'.test')\n",
    "    save_npz('Matrices/100k/u'+str(u)+'/test_data_u'+str(u)+'.npz', test_data)\n",
    "    \n",
    "    # CF Film\n",
    "    target=CF_film=predict_film_all(train_data, test_data,'CF')\n",
    "    save_npz('Matrices/100k/u'+str(u)+'/pred_CF_film_u'+str(u)+'.npz', CF_film)\n",
    "    \n",
    "    # CF User\n",
    "    CF_user=predict_user_all(train_data, test_data,'CF')\n",
    "    save_npz('Matrices/100k/u'+str(u)+'/pred_CF_user_u'+str(u)+'.npz', CF_user)\n",
    "    \n",
    "    # CB Film\n",
    "    CB_film=predict_film_all(train_data, test_data,'CB')\n",
    "    save_npz('Matrices/100k/u'+str(u)+'/pred_CB_film_u'+str(u)+'.npz', CB_film)\n",
    "\n",
    "    \n",
    "    # CB User\n",
    "    CB_user=predict_user_all(train_data, test_data,'CB')\n",
    "    save_npz('Matrices/100k/u'+str(u)+'/pred_CB_user_u'+str(u)+'.npz', CB_user)"
   ]
  },
  {
   "cell_type": "markdown",
   "metadata": {},
   "source": [
    "### Affichage des résultats"
   ]
  },
  {
   "cell_type": "code",
   "execution_count": 104,
   "metadata": {},
   "outputs": [
    {
     "name": "stdout",
     "output_type": "stream",
     "text": [
      "Analyse du jeu de données : u_1\n",
      "Analyse du jeu de données : u_2\n",
      "Analyse du jeu de données : u_3\n",
      "Analyse du jeu de données : u_4\n",
      "Analyse du jeu de données : u_5\n"
     ]
    },
    {
     "data": {
      "text/html": [
       "<div>\n",
       "<style scoped>\n",
       "    .dataframe tbody tr th:only-of-type {\n",
       "        vertical-align: middle;\n",
       "    }\n",
       "\n",
       "    .dataframe tbody tr th {\n",
       "        vertical-align: top;\n",
       "    }\n",
       "\n",
       "    .dataframe thead th {\n",
       "        text-align: right;\n",
       "    }\n",
       "</style>\n",
       "<table border=\"1\" class=\"dataframe\">\n",
       "  <thead>\n",
       "    <tr style=\"text-align: right;\">\n",
       "      <th></th>\n",
       "      <th>u1</th>\n",
       "      <th>u2</th>\n",
       "      <th>u3</th>\n",
       "      <th>u4</th>\n",
       "      <th>u5</th>\n",
       "      <th>Moyenne</th>\n",
       "    </tr>\n",
       "  </thead>\n",
       "  <tbody>\n",
       "    <tr>\n",
       "      <th>CF_film</th>\n",
       "      <td>1.033431</td>\n",
       "      <td>1.016996</td>\n",
       "      <td>1.004512</td>\n",
       "      <td>1.009916</td>\n",
       "      <td>1.011191</td>\n",
       "      <td>1.015209</td>\n",
       "    </tr>\n",
       "    <tr>\n",
       "      <th>CF_user</th>\n",
       "      <td>0.967874</td>\n",
       "      <td>0.958156</td>\n",
       "      <td>0.951901</td>\n",
       "      <td>0.948146</td>\n",
       "      <td>0.947751</td>\n",
       "      <td>0.954766</td>\n",
       "    </tr>\n",
       "    <tr>\n",
       "      <th>CB_film</th>\n",
       "      <td>1.062995</td>\n",
       "      <td>1.046747</td>\n",
       "      <td>1.032896</td>\n",
       "      <td>1.036658</td>\n",
       "      <td>1.039292</td>\n",
       "      <td>1.043718</td>\n",
       "    </tr>\n",
       "    <tr>\n",
       "      <th>CB_user</th>\n",
       "      <td>0.976745</td>\n",
       "      <td>0.966675</td>\n",
       "      <td>0.959598</td>\n",
       "      <td>0.957702</td>\n",
       "      <td>0.957205</td>\n",
       "      <td>0.963585</td>\n",
       "    </tr>\n",
       "  </tbody>\n",
       "</table>\n",
       "</div>"
      ],
      "text/plain": [
       "               u1        u2        u3        u4        u5   Moyenne\n",
       "CF_film  1.033431  1.016996  1.004512  1.009916  1.011191  1.015209\n",
       "CF_user  0.967874  0.958156  0.951901  0.948146  0.947751  0.954766\n",
       "CB_film  1.062995  1.046747  1.032896  1.036658  1.039292  1.043718\n",
       "CB_user  0.976745  0.966675  0.959598  0.957702  0.957205  0.963585"
      ]
     },
     "execution_count": 104,
     "metadata": {},
     "output_type": "execute_result"
    }
   ],
   "source": [
    "us=[1,2,3,4,5]  \n",
    "rmses_CF_film=[]\n",
    "rmses_CF_user=[]\n",
    "rmses_CB_film=[]\n",
    "rmses_CB_user=[]   \n",
    "\n",
    "for u in us:\n",
    "    print(\"Analyse du jeu de données : u_\"+str(u) )\n",
    "    \n",
    "    # Données de test\n",
    "    truth=load_npz('Matrices/100k/u'+str(u)+'/test_data_u'+str(u)+'.npz')\n",
    "    \n",
    "    \n",
    "    # CF Film\n",
    "    CF_film=load_npz('Matrices/100k/u'+str(u)+'/pred_CF_film_u'+str(u)+'.npz')\n",
    "    \n",
    "    rmses_CF_film.append(rmse(CF_film,truth))\n",
    "        \n",
    "    # CF User\n",
    "    CF_user=load_npz('Matrices/100k/u'+str(u)+'/pred_CF_user_u'+str(u)+'.npz')\n",
    "   \n",
    "    rmses_CF_user.append(rmse(CF_user,truth))\n",
    "        \n",
    "        \n",
    "    \n",
    "    # CB Film\n",
    "    CB_film=load_npz('Matrices/100k/u'+str(u)+'/pred_CB_film_u'+str(u)+'.npz')\n",
    "\n",
    "    rmses_CB_film.append(rmse(CB_film,truth))\n",
    "    \n",
    "    \n",
    "    # CB User\n",
    "    CB_user=load_npz('Matrices/100k/u'+str(u)+'/pred_CB_user_u'+str(u)+'.npz')\n",
    "    \n",
    "    rmses_CB_user.append(rmse(CB_user,truth))\n",
    "    \n",
    "rmses_CF_film.append(np.mean(rmses_CF_film))\n",
    "rmses_CB_film.append(np.mean(rmses_CB_film))\n",
    "rmses_CF_user.append(np.mean(rmses_CF_user))\n",
    "rmses_CB_user.append(np.mean(rmses_CB_user))\n",
    "\n",
    "rmses=[rmses_CF_film,rmses_CF_user,rmses_CB_film,rmses_CB_user] \n",
    "\n",
    "\n",
    "col1 = ['CF_film','CF_user','CB_film','CB_user']\n",
    "col2 = ['u1','u2','u3','u4','u5','Moyenne']\n",
    "df = pd.DataFrame(rmses,index = col1, columns = col2)\n",
    "\n",
    "df.head(8)"
   ]
  },
  {
   "cell_type": "markdown",
   "metadata": {},
   "source": [
    "- Confirmation des résultats\n",
    "- Possibilités d'hybrider ?"
   ]
  },
  {
   "cell_type": "markdown",
   "metadata": {},
   "source": [
    "# 5. Hybridation"
   ]
  },
  {
   "cell_type": "markdown",
   "metadata": {},
   "source": [
    "- Quels sont les paramètres qui quantifient la justesse de l'estimation ?\n",
    "- Le nombre de films qu'un utilsateur a vus pour la méthode orienté utilisateur ?\n",
    "$$P(u_i,f_j)-\\bar{N}(u_i)=\\frac{\\sum_{k\\neq i} s_u^{cos}(u_i,u_k)\\left(N(u_k,f_j)-\\bar{N}(u_k)\\right)}{\\sum_{k\\neq i}|s_u^{cos}(u_i,u_k)|}$$\n",
    "- Le nombre d'utilsateurs qui ont vus un film pour la méthode orienté film ?\n",
    "$$P(u_i,f_j)=\\frac{\\sum_{l\\neq j} s_u^{cos}(f_j,f_l)\\times N(u_i,f_l)}{\\sum_{l\\neq j}|s_u^{cos}(f_j,f_l)|}$$"
   ]
  },
  {
   "cell_type": "markdown",
   "metadata": {},
   "source": [
    "## 5.1 Fonction pour calculer le nombre de films vus pour un utilisateur donné"
   ]
  },
  {
   "cell_type": "markdown",
   "metadata": {},
   "source": [
    "- Conditionne apriori la performance de l'approche film"
   ]
  },
  {
   "cell_type": "code",
   "execution_count": 105,
   "metadata": {},
   "outputs": [],
   "source": [
    "def get_allnfsus(train_data): \n",
    "    \"\"\"\n",
    "    Objet : calcul du nombre de films vus par chaque utilisateur\n",
    "           (Number of Films Seen by User)\n",
    "    Arguments : train_data, la matrice d'apprentissage\n",
    "    Sortie : une liste des NFSU de taille n_u \n",
    "    \"\"\"\n",
    "    n_u=train_data.shape[0]\n",
    "    nfsus=[]\n",
    "    for u in range(n_u):\n",
    "        nfsus.append(train_data[u,:].count_nonzero())\n",
    "    return np.array(nfsus)\n"
   ]
  },
  {
   "cell_type": "code",
   "execution_count": 106,
   "metadata": {
    "scrolled": true
   },
   "outputs": [
    {
     "data": {
      "image/png": "[encoded data removed]",
      "text/plain": [
       "<matplotlib.figure.Figure at 0x1144d24a8>"
      ]
     },
     "metadata": {},
     "output_type": "display_data"
    }
   ],
   "source": [
    "allnufs=get_allnfsus(train_data);\n",
    "\n",
    "plt.hist(allnufs,bins='auto')\n",
    "plt.title(\"Histogramme du nombre de film qu'un utilisateur a vu\")\n",
    "plt.xlabel('Nombre d\\'utilisateurs')\n",
    "plt.ylabel('Nombre de films');\n",
    "plt.show()"
   ]
  },
  {
   "cell_type": "markdown",
   "metadata": {},
   "source": [
    "- Décroissance rapide : la majorité des utilisateurs ont vu moins de 100 films"
   ]
  },
  {
   "cell_type": "markdown",
   "metadata": {},
   "source": [
    "## 5.2 Fonctions pour calculer le nombre d'utilisateurs qui on vu un film donné"
   ]
  },
  {
   "cell_type": "markdown",
   "metadata": {},
   "source": [
    "- Conditionne apriori la performance de l'approche user"
   ]
  },
  {
   "cell_type": "code",
   "execution_count": 107,
   "metadata": {},
   "outputs": [],
   "source": [
    "def get_allnusfs(train_data): \n",
    "    \"\"\"\n",
    "    Objet : calcul du nombre d'utilisateurs qui ont regardé chaque film\n",
    "            (Number of Users that Saw one Film)\n",
    "    Arguments : train_data, la matrice d'apprentissage\n",
    "    Sortie : une liste des NUSF de taille n_f\n",
    "    \"\"\"\n",
    "    n_f=train_data.shape[1]\n",
    "    nusfs=[]\n",
    "    for f in range(n_f):\n",
    "        nusfs.append(train_data[:,f].count_nonzero())\n",
    "    return np.array(nusfs)"
   ]
  },
  {
   "cell_type": "code",
   "execution_count": 108,
   "metadata": {},
   "outputs": [
    {
     "data": {
      "image/png": "[encoded data removed]",
      "text/plain": [
       "<matplotlib.figure.Figure at 0x11583d780>"
      ]
     },
     "metadata": {},
     "output_type": "display_data"
    }
   ],
   "source": [
    "allnfsus=get_allnusfs(train_data);\n",
    "\n",
    "plt.hist(allnfsus,bins='auto')\n",
    "plt.title(\"Histogramme du nombre de films vus par utilisateur\")\n",
    "plt.ylabel('Nombre d\\'utilisateurs')\n",
    "plt.xlabel('Nombre de films');\n",
    "plt.show()"
   ]
  },
  {
   "cell_type": "markdown",
   "metadata": {},
   "source": [
    "- Décroissance rapide : la majorité des films ont été vus moins de 40 fois\n",
    "- Ceci explique que CF utilisateurs est plus performant que CF films"
   ]
  },
  {
   "cell_type": "markdown",
   "metadata": {},
   "source": [
    "### Évaluation de la dépendance des méthodes orientées user"
   ]
  },
  {
   "cell_type": "code",
   "execution_count": 109,
   "metadata": {},
   "outputs": [],
   "source": [
    "def rmse_fonction_user(pred,test_data):\n",
    "    \"\"\"\n",
    "    Objet : calcul des RMSE pour chaque utilisateur\n",
    "    Arguments : - pred : la matrice des predictions \n",
    "                - test_data : la matrice de test\n",
    "    Sortie : la liste des RMSE pour chaque utilisateur de taille n_u \n",
    "    \"\"\"\n",
    "    n_u=pred.shape[0]\n",
    "\n",
    "    RMSE=[]\n",
    "    zeros=[]\n",
    "    for u in range(n_u):\n",
    "        (_,_,predu)=find(pred[u,:])\n",
    "        (_,_,truthu)=find(test_data[u,:])\n",
    "        if predu.shape[0]!=0 :\n",
    "            RMSE.append(rmse(predu,truthu))\n",
    "        else :\n",
    "            RMSE.append(np.nan)\n",
    "    return RMSE\n"
   ]
  },
  {
   "cell_type": "code",
   "execution_count": 110,
   "metadata": {},
   "outputs": [],
   "source": [
    "def rmse_fonction_film(pred,test_data):\n",
    "    \"\"\"\n",
    "    Objet : calcul des RMSE pour chaque film\n",
    "    Arguments : - pred : la matrice des predictions \n",
    "                - test_data : la matrice de test\n",
    "    Sortie : la liste des RMSE pour chaque film de taille n_f\n",
    "    \"\"\"\n",
    "    n_f=test_data.shape[1]\n",
    "\n",
    "    RMSE=[]\n",
    "    zeros=[]\n",
    "    for f in range(n_f):\n",
    "        (_,_,predf)=find(pred[:,f])\n",
    "        (_,_,truthf)=find(test_data[:,f])\n",
    "        if predf.shape[0]!=0:\n",
    "            RMSE.append(rmse(truthf,predf))\n",
    "        else :\n",
    "            RMSE.append(np.nan)\n",
    "    return RMSE"
   ]
  },
  {
   "cell_type": "code",
   "execution_count": 111,
   "metadata": {
    "scrolled": true
   },
   "outputs": [
    {
     "data": {
      "image/png": "[encoded data removed]",
      "text/plain": [
       "<matplotlib.figure.Figure at 0x113856da0>"
      ]
     },
     "metadata": {},
     "output_type": "display_data"
    }
   ],
   "source": [
    "predCFuser=load_npz('Matrices/100k/u1/pred_CF_user_u1.npz')\n",
    "predCFfilm=load_npz('Matrices/100k/u1/pred_CF_film_u1.npz')\n",
    "test_data=load_npz('Matrices/100k/u1/test_data_u1.npz')\n",
    "train_data=load_npz('Matrices/100k/u1/train_data_u1.npz')\n",
    "\n",
    "nfsus=get_allnfsus(train_data)\n",
    "nusfs=get_allnusfs(train_data)\n",
    "\n",
    "RMSEuser=rmse_fonction_user(predCFuser,test_data)\n",
    "RMSEfilm=rmse_fonction_film(predCFfilm,test_data)\n",
    "\n",
    "\n",
    "fig, ax = plt.subplots()\n",
    "plt.scatter(nfsus,RMSEuser,label=\"CF utilisateur en fonction du NFSU\")\n",
    "plt.scatter(nusfs,RMSEfilm,marker='+',label=\"CF film en fonction du NUSF\")\n",
    "plt.title(\"Qualité de l'estimation pour les méthodes CF\")\n",
    "plt.ylabel('RMSE');\n",
    "plt.xlabel('NUSF ou NFSU');\n",
    "plt.xlim([0,100])\n",
    "legend = ax.legend(loc='upper right')\n",
    "plt.show()\n"
   ]
  },
  {
   "cell_type": "markdown",
   "metadata": {},
   "source": [
    "- CF film est très mauvaise quand on lui donne peu de notes, ce qui est le cas en pratique quand on la compare à CF user (voir histogrammes plus haut)\n",
    "- Plus on donne de données plus l'erreur se stabilise : l'estimateur converge\n",
    "- Pas de tendance à la baisse de l'erreur comme on pourrait s'y attendre\n",
    "- L'estimateur devient en revanche plus consistant"
   ]
  },
  {
   "cell_type": "markdown",
   "metadata": {},
   "source": [
    "## 5. Hybridation\n",
    "\n",
    "- Utilisateur a noté peu de films -> méthodes orienté user peu concluantes -> privilégier méthode orienté film\n",
    "\n",
    "- Film noté peu de fois -> méthodes orienté film peu concluantes -> privilégier méthode orienté user\n",
    "\n",
    "- Hybridation par seuil"
   ]
  },
  {
   "cell_type": "markdown",
   "metadata": {},
   "source": [
    "- On choisit de conserver les méthodes de filtrage collaboratif seulement\n",
    "- On définit la grandeur suivante $\\frac{NFSU/NFSU_{max}}{NUSF/NUSF_{max}}$\n",
    "- Si elle est supérieure à un certain seuil on utilise la méthode orientée user\n"
   ]
  },
  {
   "cell_type": "code",
   "execution_count": 112,
   "metadata": {},
   "outputs": [],
   "source": [
    "def predict_hybridall(train_data,CF_film,CF_user,seuil) :\n",
    "    \"\"\"\n",
    "    Objet : retourner la matrice des predictions pour la méthode hybride\n",
    "    Arguments : - train_data : la matrice d'entrainement\n",
    "                - CF_film : la matrice de prediction par la méthode CF film\n",
    "                - CF_user : la matrice de prediction par la méthode CF utilisateur\n",
    "                - seuil : le seuil de décision\n",
    "    Sortie : la matrice de notes prédites\n",
    "    \"\"\"\n",
    "    nfsus=get_allnfsus(train_data);nfsumax=max(nfsus)\n",
    "    nusfs=get_allnusfs(train_data);nusfmax=max(nusfs)\n",
    "    \n",
    "    (users,films,ratings)=find(CF_film)\n",
    "    \n",
    "    hybrid=[]\n",
    "    n_u=CF_film.shape[0]\n",
    "    n_f=CF_film.shape[1]\n",
    "    n_r=len(ratings)\n",
    "    \n",
    "    bar = progressbar.ProgressBar(maxval=n_r, \\\n",
    "    widgets=[progressbar.Bar('=', '[', ']'), ' ', progressbar.Percentage()])\n",
    "    bar.start()\n",
    "    \n",
    "    \n",
    "    for i in range(n_r):\n",
    "        if (nfsus[users[i]]/nfsumax)/(nusfs[films[i]]/nusfmax)>seuil:\n",
    "            hybrid.append(CF_user[users[i],films[i]])\n",
    "        else :\n",
    "            hybrid.append(CF_film[users[i],films[i]])\n",
    "        bar.update(i+1)\n",
    "    bar.finish()\n",
    "    return csr_matrix((hybrid,(users,films)),shape=(n_u,n_f))"
   ]
  },
  {
   "cell_type": "code",
   "execution_count": 113,
   "metadata": {},
   "outputs": [
    {
     "name": "stdout",
     "output_type": "stream",
     "text": [
      "Jeu de donnée : u1\n"
     ]
    },
    {
     "name": "stderr",
     "output_type": "stream",
     "text": [
      "[========================================================================] 100%\n"
     ]
    },
    {
     "name": "stdout",
     "output_type": "stream",
     "text": [
      "Jeu de donnée : u2\n"
     ]
    },
    {
     "name": "stderr",
     "output_type": "stream",
     "text": [
      "[========================================================================] 100%\n"
     ]
    },
    {
     "name": "stdout",
     "output_type": "stream",
     "text": [
      "Jeu de donnée : u3\n"
     ]
    },
    {
     "name": "stderr",
     "output_type": "stream",
     "text": [
      "[========================================================================] 100%\n"
     ]
    },
    {
     "name": "stdout",
     "output_type": "stream",
     "text": [
      "Jeu de donnée : u4\n"
     ]
    },
    {
     "name": "stderr",
     "output_type": "stream",
     "text": [
      "[========================================================================] 100%\n"
     ]
    },
    {
     "name": "stdout",
     "output_type": "stream",
     "text": [
      "Jeu de donnée : u5\n"
     ]
    },
    {
     "name": "stderr",
     "output_type": "stream",
     "text": [
      "[========================================================================] 100%\n"
     ]
    }
   ],
   "source": [
    "for u in us:\n",
    "    train_data=load_npz('Matrices/100k/u'+str(u)+'/train_data_u'+str(u)+'.npz')\n",
    "    CF_film=load_npz('Matrices/100k/u'+str(u)+'/pred_CF_film_u'+str(u)+'.npz')\n",
    "    CF_user=load_npz('Matrices/100k/u'+str(u)+'/pred_CF_user_u'+str(u)+'.npz')\n",
    "    print(\"Jeu de donnée : u\"+str(u))\n",
    "    for seuil in [0]:\n",
    "        pred_hybrid=predict_hybridall(train_data,CF_film,CF_user,seuil)\n",
    "        save_npz('Matrices/100k/u'+str(u)+'/pred_hybrid_u'+str(u)+'_seuil='+str(seuil)+'.npz',pred_hybrid)"
   ]
  },
  {
   "cell_type": "code",
   "execution_count": 114,
   "metadata": {},
   "outputs": [
    {
     "data": {
      "image/png": "[encoded data removed]",
      "text/plain": [
       "<matplotlib.figure.Figure at 0x113b246d8>"
      ]
     },
     "metadata": {},
     "output_type": "display_data"
    }
   ],
   "source": [
    "rmses_hybrid=[]\n",
    "for u in us:\n",
    "# Hybridation\n",
    "    truth=load_npz('Matrices/100k/u'+str(u)+'/test_data_u'+str(u)+'.npz')\n",
    "    temp=[]\n",
    "    \n",
    "    seuils= [0,0.002,0.004,0.006,0.008,0.01,0.02,0.04,0.06,0.08,0.1,0.2,0.4,0.6,0.8,1,2,3,4,5]\n",
    "   \n",
    "    for seuil in seuils:\n",
    "        pred_hybrid=load_npz('Matrices/100k/u'+str(u)+'/pred_hybrid_u'+str(u)+'_seuil='+str(seuil)+'.npz')\n",
    "        temp.append(rmse(pred_hybrid,truth))\n",
    "    \n",
    "    rmses_hybrid.append(temp)\n",
    "\n",
    "rmses_hybrid=np.array(rmses_hybrid).T\n",
    "\n",
    "fig, ax = plt.subplots()\n",
    "for u in [1,2,3,4,5]:\n",
    "    ax.plot(seuils,rmses_hybrid[:,u-1],label='u'+str(u))\n",
    "    \n",
    "legend = ax.legend(loc='lower center')\n",
    "plt.title(\"RMSE en fonction de l'importance que l'on donne à l'approche film\")\n",
    "plt.xlabel(\"Seuil\")\n",
    "plt.ylabel('RMSE');\n",
    "plt.show()\n",
    "plt.show()"
   ]
  },
  {
   "cell_type": "markdown",
   "metadata": {},
   "source": [
    "- Plus on choisit un seuil faible, moins on fait confiance à l'approche film\n",
    "- Pour un seuil nul on fait uniquement confiance à l'approche utilisateur\n",
    "- Pour des petits seuils la pente des courbes diminue -> l'approche utilisateur devient moins performante\n",
    "- L'hybridation est peu concluante "
   ]
  },
  {
   "cell_type": "markdown",
   "metadata": {},
   "source": [
    "# 6. Fonction de recommandation"
   ]
  },
  {
   "cell_type": "markdown",
   "metadata": {},
   "source": [
    "- Recommander des films selon la méthode CF utilisateurs ou CF film\n",
    "- Prédire les notes des films non-vus\n",
    "- Choisir les n maximums"
   ]
  },
  {
   "cell_type": "code",
   "execution_count": 115,
   "metadata": {},
   "outputs": [],
   "source": [
    "import heapq\n",
    "\n",
    "def recommend(u,ratings_matrix,films, method,n):\n",
    "    \"\"\"\n",
    "    Objet : recommande des films pour un utilisateur donné\n",
    "    Arguments : - u : un utilisateur\n",
    "                - ratings_matrix : matrice des vrais note\n",
    "                - films : la table des films \n",
    "                - method : 'film' ou 'user' (seulement les méthodes CF)\n",
    "                - n : le nombre de recommandations voulues\n",
    "    Sortie : une table des n premiers films recommandés\n",
    "    \"\"\"\n",
    "    ratings_u=ratings_matrix[u,:]\n",
    "    films_not_seen=np.where(ratings_u.todense() == 0)[1]\n",
    "    ratings_pred=np.zeros((films_not_seen.shape[0],1))\n",
    "    bar = progressbar.ProgressBar(maxval=films_not_seen.shape[0], \\\n",
    "    widgets=[' [', progressbar.Timer(), '] ',progressbar.Bar('=', '[', ']'), ' ', progressbar.Percentage()])\n",
    "    bar.start()\n",
    "    if method=='film':\n",
    "        similarity = cosine_similarities(ratings_matrix)\n",
    "        i=0\n",
    "        for f in films_not_seen :\n",
    "            ratings_pred[i]=predict(u,f,ratings_matrix,similarity,'film')\n",
    "            i=i+1\n",
    "            bar.update(i)\n",
    "        bar.finish()\n",
    "        max_rate_index=heapq.nlargest(n, range(len(ratings_pred)), ratings_pred.take)\n",
    "        return films.movie_title[films_not_seen[max_rate_index]]\n",
    "        \n",
    "    if method=='user':\n",
    "        similarity = cosine_similarities(ratings_matrix.T)\n",
    "        i=0\n",
    "        for f in films_not_seen :\n",
    "            ratings_pred[i]=predict(u,f,ratings_matrix,similarity,'user')\n",
    "            i=i+1\n",
    "            bar.update(i)\n",
    "        bar.finish()\n",
    "        max_rate_index=heapq.nlargest(n, range(len(ratings_pred)), ratings_pred.take)\n",
    "        return films.movie_title[films_not_seen[max_rate_index]]"
   ]
  },
  {
   "cell_type": "code",
   "execution_count": 41,
   "metadata": {},
   "outputs": [],
   "source": [
    "films=pd.read_csv('ml-100k/u.item', sep='|', names=i_cols,encoding='latin-1')\n",
    "ratings=read_data_100k('ml-100k/u.data')"
   ]
  },
  {
   "cell_type": "code",
   "execution_count": 42,
   "metadata": {},
   "outputs": [
    {
     "name": "stderr",
     "output_type": "stream",
     "text": [
      " [Elapsed Time: 0:00:20] [===============================================] 100%\n"
     ]
    },
    {
     "data": {
      "text/plain": [
       "1653    Chairman of the Board (1998)\n",
       "1499       Santa with Muscles (1996)\n",
       "1660             New Age, The (1994)\n",
       "1490         Tough and Deadly (1995)\n",
       "1485     Girl in the Cadillac (1995)\n",
       "Name: movie_title, dtype: object"
      ]
     },
     "execution_count": 42,
     "metadata": {},
     "output_type": "execute_result"
    }
   ],
   "source": [
    "recommend(8,ratings,films,'film',5)"
   ]
  },
  {
   "cell_type": "code",
   "execution_count": 43,
   "metadata": {},
   "outputs": [
    {
     "name": "stderr",
     "output_type": "stream",
     "text": [
      " [Elapsed Time: 0:00:31] [===============================================] 100%\n"
     ]
    },
    {
     "data": {
      "text/plain": [
       "813            Great Day in Harlem, A (1994)\n",
       "1535                    Aiqing wansui (1994)\n",
       "1466    Saint of Fort Washington, The (1993)\n",
       "1499               Santa with Muscles (1996)\n",
       "1598           Someone Else's America (1995)\n",
       "Name: movie_title, dtype: object"
      ]
     },
     "execution_count": 43,
     "metadata": {},
     "output_type": "execute_result"
    }
   ],
   "source": [
    "recommend(8,ratings,films,'user',5)"
   ]
  },
  {
   "cell_type": "markdown",
   "metadata": {},
   "source": [
    "# 7. Passage à 1 million de notes"
   ]
  },
  {
   "cell_type": "code",
   "execution_count": 74,
   "metadata": {},
   "outputs": [],
   "source": [
    "def read_data_1m(filename):\n",
    "    \"\"\"\n",
    "    Objet : retourne une matrice creuse qui contient les notes données par les utilisateurs aux films\n",
    "    Arguments : le chemin du fichier des données sous format .base ou .test\n",
    "    Sortie : matrice creuse des notes\n",
    "    \"\"\"\n",
    "        \n",
    "    data = pd.read_csv(filename, sep='::', names=header,engine='python')\n",
    "    \n",
    "    n_u = max(data.user_id)\n",
    "    n_f = max(data.item_id)\n",
    "    \n",
    "    users=[]\n",
    "    films=[]\n",
    "    ratings=[]\n",
    "    \n",
    "    \n",
    "    for line in data.itertuples():\n",
    "        users.append(line[1]-1)\n",
    "        films.append(line[2]-1)\n",
    "        ratings.append(line[3])\n",
    "        \n",
    "    return csr_matrix((ratings, (users, films)), shape=(n_u, n_f))"
   ]
  },
  {
   "cell_type": "code",
   "execution_count": 45,
   "metadata": {},
   "outputs": [],
   "source": [
    "ratings=read_data_1m('ml-1m/ratings.dat')\n",
    "films=pd.read_csv('ml-1m/movies.dat', sep='::', names=i_cols,encoding='latin-1',engine='python')"
   ]
  },
  {
   "cell_type": "code",
   "execution_count": 46,
   "metadata": {},
   "outputs": [
    {
     "name": "stderr",
     "output_type": "stream",
     "text": [
      " [Elapsed Time: 0:08:56] [===============================================] 100%\n"
     ]
    },
    {
     "data": {
      "text/plain": [
       "3279                            Night Visitor, The (1970)\n",
       "3171                                Big Tease, The (1999)\n",
       "3296                                Searchers, The (1956)\n",
       "1831    Children of Heaven, The (Bacheha-Ye Aseman) (1...\n",
       "3778                                   Silent Fall (1994)\n",
       "Name: movie_title, dtype: object"
      ]
     },
     "execution_count": 46,
     "metadata": {},
     "output_type": "execute_result"
    }
   ],
   "source": [
    "recommend(8,ratings,films,'film',5)"
   ]
  },
  {
   "cell_type": "code",
   "execution_count": 47,
   "metadata": {},
   "outputs": [
    {
     "name": "stderr",
     "output_type": "stream",
     "text": [
      " [Elapsed Time: 0:11:20] [===============================================] 100%\n"
     ]
    },
    {
     "data": {
      "text/plain": [
       "3381                Grumpy Old Men (1993)\n",
       "556     Beans of Egypt, Maine, The (1994)\n",
       "571            Little Rascals, The (1994)\n",
       "988      Associate, The (L'Associe)(1982)\n",
       "1829               Land Girls, The (1998)\n",
       "Name: movie_title, dtype: object"
      ]
     },
     "execution_count": 47,
     "metadata": {},
     "output_type": "execute_result"
    }
   ],
   "source": [
    "recommend(8,ratings,films,'user',5)"
   ]
  },
  {
   "cell_type": "markdown",
   "metadata": {},
   "source": [
    "# Conclusion"
   ]
  },
  {
   "cell_type": "markdown",
   "metadata": {},
   "source": [
    "- Bilan des différentes approches\n",
    "- Hybridation peu concluante\n",
    "- Explorer d'autres techniques : SVD"
   ]
  }
 ],
 "metadata": {
  "kernelspec": {
   "display_name": "Python 3",
   "language": "python",
   "name": "python3"
  },
  "language_info": {
   "codemirror_mode": {
    "name": "ipython",
    "version": 3
   },
   "file_extension": ".py",
   "mimetype": "text/x-python",
   "name": "python",
   "nbconvert_exporter": "python",
   "pygments_lexer": "ipython3",
   "version": "3.6.4"
  }
 },
 "nbformat": 4,
 "nbformat_minor": 2
}
